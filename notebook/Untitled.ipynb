{
 "cells": [
  {
   "cell_type": "code",
   "execution_count": null,
   "metadata": {},
   "outputs": [],
   "source": [
    "DATA_PATH = \"E:\\\\NCLOneDrive\\\\OneDrive - Newcastle University\\\\Dataset\\\\MESA\\Acc-\" \\\n",
    "            \"HR-Aligned\\\\Aligned_final\\\\combined\\\\Aligned_final\";\n"
   ]
  }
 ],
 "metadata": {
  "kernelspec": {
   "display_name": "Python 3",
   "language": "python",
   "name": "python3"
  }
 },
 "nbformat": 4,
 "nbformat_minor": 2
}
